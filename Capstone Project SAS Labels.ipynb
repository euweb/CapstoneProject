{
 "cells": [
  {
   "cell_type": "markdown",
   "metadata": {},
   "source": [
    "# Capstone Project SAS Labels"
   ]
  },
  {
   "cell_type": "code",
   "execution_count": 7,
   "metadata": {},
   "outputs": [],
   "source": [
    "import pandas as pd\n",
    "import re"
   ]
  },
  {
   "cell_type": "code",
   "execution_count": 11,
   "metadata": {},
   "outputs": [
    {
     "name": "stdout",
     "output_type": "stream",
     "text": [
      "table:  i94cntyl\n",
      "table:  i94prtl\n",
      "table:  i94model\n",
      "table:  i94addrl\n"
     ]
    }
   ],
   "source": [
    "with open('source_data/I94_SAS_Labels_Descriptions.SAS', 'r') as file:\n",
    "    data = file.read()#.replace('\\n', '')\n",
    "\n",
    "    matches = re.finditer(r'(value\\s+)(\\w*)(\\s*)(.*?)(;)', data, re.MULTILINE | re.VERBOSE | re.DOTALL)\n",
    "\n",
    "    tables = {}\n",
    "\n",
    "    for match in matches: \n",
    "        #print(l)\n",
    "        if(match):\n",
    "            table = match.group(2)\n",
    "            print(\"table: \",table)\n",
    "            contents = match.group(4)\n",
    "            tmp = []\n",
    "            for line in contents.splitlines():\n",
    "                #print(line)\n",
    "                if line:\n",
    "                    key, value = line.split('=')\n",
    "                    tmp.append([key.strip(\"' \\t\"),value.strip(\"' \\t\")])\n",
    "            if len(tmp)>0:\n",
    "                tables[table]=pd.DataFrame(tmp,columns=['key','value'])  \n",
    "            else:\n",
    "                print(f\"no content for table $table\")    "
   ]
  },
  {
   "cell_type": "code",
   "execution_count": 22,
   "metadata": {},
   "outputs": [
    {
     "name": "stdout",
     "output_type": "stream",
     "text": [
      "exporting table i94cntyl\n",
      "exporting table i94prtl\n",
      "exporting table i94model\n",
      "exporting table i94addrl\n"
     ]
    }
   ],
   "source": [
    "for table in tables:\n",
    "    print(\"exporting table\",table)\n",
    "    df = tables[table]\n",
    "    df.to_csv(path_or_buf=\"source_data/{}_mapping.csv\".format(table), index=False)"
   ]
  }
 ],
 "metadata": {
  "interpreter": {
   "hash": "f91808ed38d11f039fcc9a49e85855fcafb63042e038c39e21355bcb3bac881b"
  },
  "kernelspec": {
   "display_name": "Python 3.9.5 64-bit ('.venv': venv)",
   "name": "python3"
  },
  "language_info": {
   "codemirror_mode": {
    "name": "ipython",
    "version": 3
   },
   "file_extension": ".py",
   "mimetype": "text/x-python",
   "name": "python",
   "nbconvert_exporter": "python",
   "pygments_lexer": "ipython3",
   "version": "3.9.5"
  },
  "orig_nbformat": 4
 },
 "nbformat": 4,
 "nbformat_minor": 2
}
